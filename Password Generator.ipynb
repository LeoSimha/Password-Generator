{
 "cells": [
  {
   "cell_type": "code",
   "execution_count": 4,
   "metadata": {},
   "outputs": [],
   "source": [
    "from tkinter import *\n",
    "import random, string\n",
    "import pyperclip\n",
    "\n",
    "root = Tk()\n",
    "root.geometry(\"400x400\")\n",
    "root.resizable(0,0)\n",
    "root.title(\"PYTHON PROJECT  - PASSWORD GENERATOR\")\n",
    "\n",
    "Label(root, text='PASSWORD GENERATOR', font='arial 15 bold').pack()\n",
    "Label(root, text='Python', font='arial 15 bold').pack(side=BOTTOM)\n",
    "\n",
    "pass_label = Label(root, text='PASSWORD LENGTH', font='arial 10 bold').pack()\n",
    "pass_len = IntVar()\n",
    "length = Spinbox(root, from_=8, to_=32, textvariable=pass_len, width=15).pack()\n",
    "pass_str = StringVar()\n",
    "\n",
    "def Generator():\n",
    "    password = []\n",
    "   \n",
    "    # Ensuring at least one character from each type (Uppercase, Lowercase, Digits, Punctuation)\n",
    "    if pass_len.get() >= 4:\n",
    "        password.append(random.choice(string.ascii_uppercase))\n",
    "        password.append(random.choice(string.ascii_lowercase))\n",
    "        password.append(random.choice(string.digits))\n",
    "        password.append(random.choice(string.punctuation))\n",
    "       \n",
    "       \n",
    "\n",
    "        # Fill the rest with random choices until the specified length\n",
    "        for _ in range(pass_len.get() - 4):\n",
    "            password.append(random.choice(string.ascii_uppercase + string.ascii_lowercase + string.digits + string.punctuation))\n",
    "       \n",
    "        # Shuffle to ensure randomness\n",
    "        random.shuffle(password)\n",
    "    else:\n",
    "        # If length is less than 4, just fill the required length with random choices\n",
    "        for _ in range(pass_len.get()):\n",
    "            password.append(random.choice(string.ascii_uppercase + string.ascii_lowercase + string.digits + string.punctuation))\n",
    "   \n",
    "    # Convert list to string and set it to the variable\n",
    "    pass_str.set(''.join(password))\n",
    "\n",
    "\n",
    "\n",
    "def Copy_password():\n",
    "    pyperclip.copy(pass_str.get())\n",
    "\n",
    "Button(root, text='GENERATE PASSWORD', command=Generator).pack(pady=5)\n",
    "Entry(root, textvariable=pass_str).pack()\n",
    "Button(root, text='COPY TO CLIPBOARD', command=Copy_password).pack(pady=5)\n",
    "\n",
    "root.mainloop()"
   ]
  }
 ],
 "metadata": {
  "kernelspec": {
   "display_name": "base",
   "language": "python",
   "name": "python3"
  },
  "language_info": {
   "codemirror_mode": {
    "name": "ipython",
    "version": 3
   },
   "file_extension": ".py",
   "mimetype": "text/x-python",
   "name": "python",
   "nbconvert_exporter": "python",
   "pygments_lexer": "ipython3",
   "version": "3.12.4"
  }
 },
 "nbformat": 4,
 "nbformat_minor": 2
}
